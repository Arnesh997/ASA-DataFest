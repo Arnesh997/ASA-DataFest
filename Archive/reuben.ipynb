{
 "cells": [
  {
   "cell_type": "code",
   "execution_count": null,
   "metadata": {},
   "outputs": [],
   "source": [
    "import pandas as pd\n",
    "\n",
    "# Load the data set\n",
    "df = pd.read_csv('input_data.csv')\n",
    "\n",
    "# Perform data cleaning operations\n",
    "# Remove duplicates\n",
    "df = df.drop_duplicates()\n",
    "\n",
    "# Handle missing values\n",
    "df = df.dropna()\n",
    "\n",
    "# Transform data types if needed\n",
    "df['column_name'] = df['column_name'].astype(int)\n",
    "\n",
    "# Save the cleaned data set to a new file\n",
    "df.to_csv('cleaned_data.csv', index=False)\n"
   ]
  }
 ],
 "metadata": {
  "language_info": {
   "name": "python"
  }
 },
 "nbformat": 4,
 "nbformat_minor": 2
}
